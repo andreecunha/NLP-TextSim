{
 "cells": [
  {
   "cell_type": "code",
   "execution_count": 16,
   "id": "9ac555b2",
   "metadata": {},
   "outputs": [],
   "source": [
    "import pandas as pd\n",
    "from sentence_transformers import SentenceTransformer\n",
    "from googletrans import Translator\n",
    "import googletrans\n",
    "import numpy as np\n",
    "from sklearn.metrics.pairwise import cosine_similarity"
   ]
  },
  {
   "cell_type": "code",
   "execution_count": 2,
   "id": "cf8d1f59",
   "metadata": {},
   "outputs": [],
   "source": [
    "data = pd.read_csv('question_dataset.csv')\n",
    "data_array = np.array(data)"
   ]
  },
  {
   "cell_type": "code",
   "execution_count": 3,
   "id": "a96e8493",
   "metadata": {},
   "outputs": [],
   "source": [
    "translator = Translator()\n",
    "\n",
    "src = 'en'\n",
    "dest = 'pt'"
   ]
  },
  {
   "cell_type": "code",
   "execution_count": 4,
   "id": "8c1adeb4",
   "metadata": {},
   "outputs": [],
   "source": [
    "for i in range(data_array.shape[0]):\n",
    "    data_array[i, 0] = translator.translate(data_array[i, 0], src=src, dest=dest).text"
   ]
  },
  {
   "cell_type": "code",
   "execution_count": 5,
   "id": "129504a8",
   "metadata": {},
   "outputs": [],
   "source": [
    "model = SentenceTransformer('./model')"
   ]
  },
  {
   "cell_type": "code",
   "execution_count": 8,
   "id": "5d9b13e8",
   "metadata": {},
   "outputs": [],
   "source": [
    "encodes = []\n",
    "\n",
    "for i in range(data_array.shape[0]):\n",
    "    sent = data_array[i, 0]\n",
    "    encode = model.encode(sent)\n",
    "    encodes.append(encode)\n",
    "    "
   ]
  },
  {
   "cell_type": "code",
   "execution_count": 37,
   "id": "6156f63b",
   "metadata": {},
   "outputs": [],
   "source": [
    "sentences_pt = data_array[:, 0]\n",
    "links = data_array[:, 3]\n",
    "\n",
    "for i in range(len(links)):\n",
    "    \n",
    "    links[i] = \"www.quora.com\" + links[i]\n",
    "\n",
    "new_dataset = pd.DataFrame(zip(encodes, sentences_pt, links))\n",
    "\n",
    "new_dataset.rename(columns={0:\"encode\", 1:\"sentence\", 2:\"link\"}, inplace=True)\n"
   ]
  },
  {
   "cell_type": "code",
   "execution_count": 39,
   "id": "801b3452",
   "metadata": {},
   "outputs": [
    {
     "data": {
      "text/html": [
       "<div>\n",
       "<style scoped>\n",
       "    .dataframe tbody tr th:only-of-type {\n",
       "        vertical-align: middle;\n",
       "    }\n",
       "\n",
       "    .dataframe tbody tr th {\n",
       "        vertical-align: top;\n",
       "    }\n",
       "\n",
       "    .dataframe thead th {\n",
       "        text-align: right;\n",
       "    }\n",
       "</style>\n",
       "<table border=\"1\" class=\"dataframe\">\n",
       "  <thead>\n",
       "    <tr style=\"text-align: right;\">\n",
       "      <th></th>\n",
       "      <th>encode</th>\n",
       "      <th>sentence</th>\n",
       "      <th>link</th>\n",
       "    </tr>\n",
       "  </thead>\n",
       "  <tbody>\n",
       "    <tr>\n",
       "      <th>0</th>\n",
       "      <td>[-0.09196175, -0.04683297, 0.512825, -0.134220...</td>\n",
       "      <td>Como faço para começar a participar das compet...</td>\n",
       "      <td>/How-do-I-start-participating-in-Kaggle-compet...</td>\n",
       "    </tr>\n",
       "    <tr>\n",
       "      <th>1</th>\n",
       "      <td>[0.15734057, 0.05476767, 0.3301339, -0.1610447...</td>\n",
       "      <td>Kaggle está morto?</td>\n",
       "      <td>/Is-Kaggle-dead</td>\n",
       "    </tr>\n",
       "    <tr>\n",
       "      <th>2</th>\n",
       "      <td>[0.19886579, -0.097112805, 0.3608522, -0.00978...</td>\n",
       "      <td>Como um iniciante deve começar no Kaggle?</td>\n",
       "      <td>/How-should-a-beginner-get-started-on-Kaggle</td>\n",
       "    </tr>\n",
       "    <tr>\n",
       "      <th>3</th>\n",
       "      <td>[0.055483077, -0.16728808, 0.35677192, 0.07472...</td>\n",
       "      <td>Quais são algumas alternativas ao Kaggle?</td>\n",
       "      <td>/What-are-some-alternatives-to-Kaggle</td>\n",
       "    </tr>\n",
       "    <tr>\n",
       "      <th>4</th>\n",
       "      <td>[0.07760954, -0.09256087, 0.31933102, -0.00586...</td>\n",
       "      <td>Com quais competições Kaggle um iniciante deve...</td>\n",
       "      <td>/What-Kaggle-competitions-should-a-beginner-st...</td>\n",
       "    </tr>\n",
       "  </tbody>\n",
       "</table>\n",
       "</div>"
      ],
      "text/plain": [
       "                                              encode  \\\n",
       "0  [-0.09196175, -0.04683297, 0.512825, -0.134220...   \n",
       "1  [0.15734057, 0.05476767, 0.3301339, -0.1610447...   \n",
       "2  [0.19886579, -0.097112805, 0.3608522, -0.00978...   \n",
       "3  [0.055483077, -0.16728808, 0.35677192, 0.07472...   \n",
       "4  [0.07760954, -0.09256087, 0.31933102, -0.00586...   \n",
       "\n",
       "                                            sentence  \\\n",
       "0  Como faço para começar a participar das compet...   \n",
       "1                                 Kaggle está morto?   \n",
       "2          Como um iniciante deve começar no Kaggle?   \n",
       "3          Quais são algumas alternativas ao Kaggle?   \n",
       "4  Com quais competições Kaggle um iniciante deve...   \n",
       "\n",
       "                                                link  \n",
       "0  /How-do-I-start-participating-in-Kaggle-compet...  \n",
       "1                                    /Is-Kaggle-dead  \n",
       "2       /How-should-a-beginner-get-started-on-Kaggle  \n",
       "3              /What-are-some-alternatives-to-Kaggle  \n",
       "4  /What-Kaggle-competitions-should-a-beginner-st...  "
      ]
     },
     "execution_count": 39,
     "metadata": {},
     "output_type": "execute_result"
    }
   ],
   "source": [
    "new_dataset.head()"
   ]
  },
  {
   "cell_type": "code",
   "execution_count": 40,
   "id": "67215765",
   "metadata": {},
   "outputs": [],
   "source": [
    "new_dataset.to_csv(\"./transformed_data.csv\")"
   ]
  },
  {
   "cell_type": "code",
   "execution_count": null,
   "id": "e3818b41",
   "metadata": {},
   "outputs": [],
   "source": []
  }
 ],
 "metadata": {
  "kernelspec": {
   "display_name": "Python 3 (ipykernel)",
   "language": "python",
   "name": "python3"
  },
  "language_info": {
   "codemirror_mode": {
    "name": "ipython",
    "version": 3
   },
   "file_extension": ".py",
   "mimetype": "text/x-python",
   "name": "python",
   "nbconvert_exporter": "python",
   "pygments_lexer": "ipython3",
   "version": "3.9.12"
  }
 },
 "nbformat": 4,
 "nbformat_minor": 5
}
